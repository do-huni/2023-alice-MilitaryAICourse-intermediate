{
  "nbformat": 4,
  "nbformat_minor": 0,
  "metadata": {
    "colab": {
      "provenance": [],
      "authorship_tag": "ABX9TyMIvgkI5f6bK7vRqi704u0U",
      "include_colab_link": true
    },
    "kernelspec": {
      "name": "python3",
      "display_name": "Python 3"
    },
    "language_info": {
      "name": "python"
    }
  },
  "cells": [
    {
      "cell_type": "markdown",
      "metadata": {
        "id": "view-in-github",
        "colab_type": "text"
      },
      "source": [
        "<a href=\"https://colab.research.google.com/github/do-huni/2023-elice-MilitaryAICourse-intermediate/blob/main/Baekjoon/%EA%B8%B0%EB%B3%B8%20%EC%88%98%ED%95%991(basic%20mathematics%20I)/2292_%EB%B2%8C%EC%A7%91.ipynb\" target=\"_parent\"><img src=\"https://colab.research.google.com/assets/colab-badge.svg\" alt=\"Open In Colab\"/></a>"
      ]
    },
    {
      "cell_type": "code",
      "execution_count": null,
      "metadata": {
        "colab": {
          "base_uri": "https://localhost:8080/"
        },
        "id": "F3wg3WhByBix",
        "outputId": "cf1daecc-da77-45f8-cca9-d61c8df2d6e0"
      },
      "outputs": [
        {
          "output_type": "stream",
          "name": "stdout",
          "text": [
            "13\n",
            "3\n"
          ]
        }
      ],
      "source": [
        "a =int(input())\n",
        "i=1\n",
        "b = 1\n",
        "while a > b:\n",
        "    i += 1\n",
        "    b += (i-1)*6\n",
        "print(i)"
      ]
    }
  ]
}